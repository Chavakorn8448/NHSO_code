{
  "nbformat": 4,
  "nbformat_minor": 0,
  "metadata": {
    "colab": {
      "provenance": []
    },
    "kernelspec": {
      "name": "python3",
      "display_name": "Python 3"
    },
    "language_info": {
      "name": "python"
    }
  },
  "cells": [
    {
      "cell_type": "markdown",
      "source": [
        "Criteria 1.3 name check.\n",
        "\n",
        "\n",
        "*   wrong but caller mai dai arai --> not pass\n",
        "*   wrong then correct --> pass\n",
        "\n",
        "*  have คุณ infront of the correct name --> pass\n",
        "*  have คุณ infront of the name but not correct name --> wrong\n",
        "\n",
        "\n",
        "\n",
        "\n",
        "\n"
      ],
      "metadata": {
        "id": "8tn3ko2VX99w"
      }
    },
    {
      "cell_type": "code",
      "source": [
        "text = '''**Speaker 1 (Contact Center Agent):**\n",
        "\"1330 สวัสดีค่ะ มิน รับสาย ยินดีให้บริการค่ะ\"\n",
        "\n",
        "**Speaker 2 (Citizen):**\n",
        "\"สวัสดีครับ ขอสอบถามเรื่องการลงทะเบียนสิทธิประกันสุขภาพแห่งชาติครับ\"\n",
        "\n",
        "**Speaker 1:**\n",
        "\"ได้ค่ะ ขอทราบชื่อ-นามสกุลและเลขบัตรประจำตัวประชาชนของท่านก่อนได้ไหมคะ?\"\n",
        "\n",
        "**Speaker 2:**\n",
        "\"ชื่อนายเอกลักษณ์ ชัยชนะ ครับ เลขบัตรประชาชน 1-2345-67890-12-3 ครับ\"\n",
        "\n",
        "**Speaker 1:**\n",
        "\"ขอบคุณค่ะ คุณเฟรม กรุณาบอกเล่าเรื่องราวให้ฟังหน่อยได้ไหมคะ ว่าต้องการความช่วยเหลือเรื่องอะไร?\"\n",
        "\n",
        "**Speaker 2:**\n",
        "\"ได้ครับ อยากทราบว่าการลงทะเบียนสิทธิประกันสุขภาพแห่งชาติสามารถทำได้ที่ไหนครับ?\"\n",
        "\n",
        "**Speaker 1:**\n",
        "\"ค่ะ สำหรับการลงทะเบียนสิทธิประกันสุขภาพแห่งชาติ ท่านสามารถทำได้ที่โรงพยาบาลหรือคลินิกใกล้บ้านที่เป็นหน่วยบริการประจำของท่าน หรือท่านสามารถติดต่อสำนักงานหลักประกันสุขภาพแห่งชาติ (สปสช.) สาขาที่ท่านอยู่ได้ค่ะ\"\n",
        "\n",
        "**Speaker 2:**\n",
        "\"ถ้าผมอยู่ที่จังหวัดเชียงใหม่ ต้องติดต่อที่ไหนครับ?\"\n",
        "\n",
        "**Speaker 1:**\n",
        "\"ถ้าคุณเอกลักษณ์อยู่ที่จังหวัดเชียงใหม่ ท่านสามารถติดต่อสำนักงานหลักประกันสุขภาพแห่งชาติ (สปสช.) ภาค 1 จังหวัดเชียงใหม่ ได้ค่ะ หรือท่านสามารถติดต่อที่โรงพยาบาลหรือคลินิกใกล้บ้านของท่านเพื่อลงทะเบียนได้เช่นกัน\"\n",
        "\n",
        "**Speaker 2:**\n",
        "\"แล้วถ้าผมมีปัญหาในการลงทะเบียนล่ะครับ? สามารถติดต่อใครได้บ้าง?\"\n",
        "\n",
        "**Speaker 1:**\n",
        "\"หากท่านมีปัญหาในการลงทะเบียน ท่านสามารถติดต่อเจ้าหน้าที่ที่โรงพยาบาลหรือคลินิกที่ท่านลงทะเบียน หรือติดต่อสำนักงานหลักประกันสุขภาพแห่งชาติ (สปสช.) ภาค 1 จังหวัดเชียงใหม่ ได้ค่ะ\"\n",
        "\n",
        "**Speaker 2:**\n",
        "\"ขอบคุณมากครับ\"\n",
        "\n",
        "**Speaker 1:**\n",
        "\"ยินดีค่ะ ขอให้ท่านมีสุขภาพแข็งแรง และถ้ามีคำถามเพิ่มเติม ติดต่อเราได้ตลอด 24 ชั่วโมง ครับ สวัสดีครับ\"'''\n",
        ""
      ],
      "metadata": {
        "id": "-Cy3AKH2fJqy"
      },
      "execution_count": 31,
      "outputs": []
    },
    {
      "cell_type": "code",
      "source": [
        "import re\n",
        "\n",
        "def check_agent_name_usage_clean(text):\n",
        "    # Parse conversation with a regex pattern\n",
        "    turns = []\n",
        "    pattern = r'\\*\\*Speaker (\\d+)(?:\\s*\\([^)]*\\))?:\\*\\*\\s*\\n\"([^\"]+)\"'\n",
        "    matches = re.findall(pattern, text, re.DOTALL)\n",
        "\n",
        "    if not matches:\n",
        "        return \"Error: Could not parse conversation.\"\n",
        "\n",
        "    for speaker_num, content in matches:\n",
        "        role = \"agent\" if speaker_num == \"1\" else \"customer\"\n",
        "        turns.append({\n",
        "            \"role\": role,\n",
        "            \"content\": content.strip(),\n",
        "            \"speaker_num\": speaker_num\n",
        "        })\n",
        "\n",
        "    # Find where customer provides their name\n",
        "    customer_name = None\n",
        "    for turn in turns:\n",
        "        if turn[\"role\"] == \"customer\" and \"ชื่อ\" in turn[\"content\"]:\n",
        "            parts = turn[\"content\"].split(\"ชื่อ\")\n",
        "            if len(parts) > 1:\n",
        "                name_chunk = parts[1].split(\"ครับ\")[0].strip()\n",
        "                for title in [\"นาย\", \"นาง\", \"นางสาว\"]:\n",
        "                    if name_chunk.startswith(title):\n",
        "                        name_chunk = name_chunk.replace(title, \"\", 1).strip()\n",
        "                        break\n",
        "                name_parts = name_chunk.split()\n",
        "                if len(name_parts) >= 2:\n",
        "                    customer_name = {\n",
        "                        \"first_name\": name_parts[0],\n",
        "                        \"last_name\": name_parts[1]\n",
        "                    }\n",
        "                    break\n",
        "\n",
        "    if not customer_name:\n",
        "        return \"Could not extract customer name from conversation.\"\n",
        "\n",
        "    # Check if agent uses \"คุณ + name\"\n",
        "    agent_name_usage = []\n",
        "    for i, turn in enumerate(turns):\n",
        "        if turn[\"role\"] == \"agent\":\n",
        "            proper_address = f\"คุณ{customer_name['first_name']}\"\n",
        "            if proper_address in turn[\"content\"]:\n",
        "                agent_name_usage.append({\n",
        "                    \"turn_index\": i,\n",
        "                    \"content\": turn[\"content\"]\n",
        "                })\n",
        "\n",
        "    if agent_name_usage:\n",
        "        return 1  # Return 1 for PASS\n",
        "    else:\n",
        "        for turn in turns:\n",
        "            if turn[\"role\"] == \"agent\" and customer_name[\"first_name\"] in turn[\"content\"]:\n",
        "                break\n",
        "        return 0  # Return 0 for NOT PASS"
      ],
      "metadata": {
        "id": "PpvK2M7rg_b-"
      },
      "execution_count": 32,
      "outputs": []
    },
    {
      "cell_type": "code",
      "source": [
        "label = check_agent_name_usage_clean(text)\n",
        "print(label)"
      ],
      "metadata": {
        "colab": {
          "base_uri": "https://localhost:8080/"
        },
        "id": "lJNIqw1ZiENO",
        "outputId": "9047cec1-462e-45e1-b905-dd5798e93546"
      },
      "execution_count": 34,
      "outputs": [
        {
          "output_type": "stream",
          "name": "stdout",
          "text": [
            "1\n"
          ]
        }
      ]
    },
    {
      "cell_type": "code",
      "source": [],
      "metadata": {
        "id": "lzLklkWgiIlW"
      },
      "execution_count": null,
      "outputs": []
    }
  ]
}